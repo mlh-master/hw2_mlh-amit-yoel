{
 "cells": [
  {
   "cell_type": "markdown",
   "metadata": {},
   "source": [
    "# HW2 - Amit Parizat & Yoel Melul"
   ]
  },
  {
   "cell_type": "markdown",
   "metadata": {},
   "source": [
    "## Theory Questions"
   ]
  },
  {
   "cell_type": "markdown",
   "metadata": {},
   "source": [
    "### Q1\n",
    "**To evaluate how well our model performs at T1D classification, we need to have evaluation metrics that measures of its performances/accuracy. Which evaluation metric is more important to us: model accuracy or model performance? Give a simple example that illustrates your claim.**"
   ]
  },
  {
   "cell_type": "markdown",
   "metadata": {},
   "source": [
    "In our model, the more important evaluation metric is model performance. Like we saw in lecture \"*C08 - Practical consideration on training a model II*\" in slide 8, accuracy could be high even when the classifier misclassifies most of 'Yes' labeled examples. For example, when 99% percent of the data is labeled 'No' and only 1% is labeled 'Yes' (could be our case since most of the population doesn't have diabetes), even when the classifier labeles 'No' all the examples we obtain high accuracy. In this case, performance statistics such as sensitivity, PPV and F1 would be more informative."
   ]
  },
  {
   "cell_type": "markdown",
   "metadata": {},
   "source": [
    "### Q2\n",
    "**T1D is often associated with other comorbidities such as a heart attack. You are asked to design a ML algorithm to predict which patients are going to suffer a heart attack. Relevant patient features for the algorithm may include blood pressure (BP), body-mass index (BMI), age (A), level of physical activity (P), and income (I). You should choose between two classifiers: the first uses only BP and BMI features and the other one uses all of the features available to you. Explain the pros and cons of each choice.**"
   ]
  },
  {
   "cell_type": "markdown",
   "metadata": {},
   "source": [
    "When using only two features we create a simpler model that requires less computational effort to be made and less memory space to accommodate weights or any other information about the model. However, when not taking into consideration all of the data provided, we may miss important information that may have high indicativity on heart attacks. We may also miss trasformations of the neglected features that could yield valuable new features."
   ]
  },
  {
   "cell_type": "markdown",
   "metadata": {},
   "source": [
    "### Q3\n",
    "**A histologist wants to use machine learning to tell the difference between pancreas biopsies that show signs of T1D and those that do not. She has already come up with dozens of measurements to take, such as color, size, uniformity and cell-count, but she isn’t sure which model to use. The biopsies are really similar, and it is difficult to distinguish them from the human eye, or by just looking at the features. Which of the following is better: logistic regression, linear SVM or nonlinear SVM? Explain your answer.**"
   ]
  },
  {
   "cell_type": "markdown",
   "metadata": {},
   "source": [
    "The best model of the above for such case is the nonlinear SVM model. Since the current features the histologist has don't have significant correlation with T1D, there might be a nonlinear combination of them that could have a better correlation."
   ]
  },
  {
   "cell_type": "markdown",
   "metadata": {},
   "source": [
    "### Q4\n",
    "**What are the differences between LR and linear SVM and what is the difference in the effect/concept of their hyper-parameters tuning?**"
   ]
  },
  {
   "cell_type": "markdown",
   "metadata": {},
   "source": [
    "Logistic regression is based on probabilistically separating the data through the sigmoid function, asigning each data point to the class with the highest probability of including it. In contrast, linear SVMs are based on a geometrical separation of the data, finding the hyperplane with the widest margin that will separate data points to several classifications. When tuning hyper-parameters in LR we tune a single parameter $(\\lambda)$, while in SVM we tune a set of parameters $(C,\\gamma)$, this is why grid search can be computationally expensive."
   ]
  },
  {
   "cell_type": "markdown",
   "metadata": {},
   "source": [
    "## Coding Assignment"
   ]
  },
  {
   "cell_type": "markdown",
   "metadata": {},
   "source": [
    "### Part 1\n",
    "**Load the data. Explain any preprocessing.**"
   ]
  },
  {
   "cell_type": "markdown",
   "metadata": {},
   "source": [
    "Import modules"
   ]
  },
  {
   "cell_type": "code",
   "execution_count": 1,
   "metadata": {},
   "outputs": [],
   "source": [
    "import pandas as pd \n",
    "import numpy as np\n",
    "from pathlib import Path\n",
    "import random\n",
    "import matplotlib.pyplot as plt\n",
    "from sklearn.model_selection import train_test_split\n",
    "from IPython.display import display\n",
    "%load_ext autoreload\n",
    "random.seed(10)"
   ]
  },
  {
   "cell_type": "markdown",
   "metadata": {},
   "source": [
    "Load data"
   ]
  },
  {
   "cell_type": "code",
   "execution_count": 2,
   "metadata": {},
   "outputs": [],
   "source": [
    "file = Path.cwd().joinpath('HW2_data.csv')\n",
    "dataset = pd.read_csv(file)"
   ]
  },
  {
   "cell_type": "markdown",
   "metadata": {},
   "source": [
    "Check for nan values"
   ]
  },
  {
   "cell_type": "code",
   "execution_count": 3,
   "metadata": {},
   "outputs": [
    {
     "name": "stdout",
     "output_type": "stream",
     "text": [
      "Increased Thirst 521, Increased Thirst 522, Increased Thirst 523, Increased Thirst 524, Increased Thirst 525, Increased Thirst 526, Increased Thirst 527, Increased Thirst 528, Increased Thirst 529, Increased Thirst 544, Increased Thirst 545, Increased Thirst 546, Increased Thirst 547, Increased Thirst 548, Increased Thirst 549, Increased Thirst 550, Increased Thirst 551, Increased Thirst 552, Increased Thirst 553, Increased Thirst 554, Sudden Weight Loss 521, Sudden Weight Loss 525, Sudden Weight Loss 526, Sudden Weight Loss 527, Sudden Weight Loss 528, Sudden Weight Loss 529, Sudden Weight Loss 530, Sudden Weight Loss 531, Sudden Weight Loss 532, Increased Hunger 530, Increased Hunger 531, Increased Hunger 532, Increased Hunger 533, Increased Hunger 534, Increased Hunger 535, Increased Hunger 536, Increased Hunger 537, Increased Hunger 538, Increased Hunger 539, Increased Hunger 540, Increased Hunger 541, Increased Hunger 542, Genital Thrush 548, Genital Thrush 549, Genital Thrush 550, Genital Thrush 551, Genital Thrush 552, Genital Thrush 553, Genital Thrush 554, Genital Thrush 555, Genital Thrush 556, Genital Thrush 557, Genital Thrush 558, Genital Thrush 559, Genital Thrush 560, Genital Thrush 561, Itching 520, Itching 530, Itching 531, Itching 532, Itching 533, Itching 534, Itching 535, Itching 536, Itching 537, Itching 538, Itching 539, Muscle Stiffness 530, Muscle Stiffness 531, Muscle Stiffness 532, Muscle Stiffness 533, Muscle Stiffness 534, Muscle Stiffness 535, Muscle Stiffness 536, Muscle Stiffness 537, Muscle Stiffness 538, Muscle Stiffness 539, Muscle Stiffness 540, Muscle Stiffness 541, Muscle Stiffness 542, Muscle Stiffness 543, Muscle Stiffness 544, \n",
      "\n",
      "There are 42 examples containing nans.\n",
      "There are 6 features containing nans.\n"
     ]
    }
   ],
   "source": [
    "nan_examples = set()\n",
    "nan_features = set()\n",
    "for feat in dataset.columns:\n",
    "    for index in dataset.index:\n",
    "        if pd.isna(dataset[feat][index]):\n",
    "            print(feat, index, end=', ')\n",
    "            nan_examples.add(index)\n",
    "            nan_features.add(feat)\n",
    "print('\\n\\nThere are %.f examples containing nans.' %len(nan_examples))\n",
    "print('There are %.f features containing nans.' %len(nan_features))"
   ]
  },
  {
   "cell_type": "markdown",
   "metadata": {},
   "source": [
    "Drop examples containing  nans"
   ]
  },
  {
   "cell_type": "code",
   "execution_count": 4,
   "metadata": {},
   "outputs": [],
   "source": [
    "c_dataset = dataset.drop(nan_examples, axis=0)"
   ]
  },
  {
   "cell_type": "markdown",
   "metadata": {},
   "source": [
    "Change 'Yes' to '1' and 'No' to '0'"
   ]
  },
  {
   "cell_type": "code",
   "execution_count": 5,
   "metadata": {},
   "outputs": [],
   "source": [
    "c_dataset = c_dataset.rename(columns={'Gender': 'Male'})\n",
    "c_dataset = c_dataset.replace(to_replace=['No', 'Negative', 'Female', 'Yes', 'Positive', 'Male'], value=[0, 0, 0, 1, 1, 1])"
   ]
  },
  {
   "cell_type": "markdown",
   "metadata": {},
   "source": [
    "Check the dataset is OK"
   ]
  },
  {
   "cell_type": "code",
   "execution_count": 6,
   "metadata": {},
   "outputs": [
    {
     "data": {
      "image/png": "[encoded data removed]",
      "text/plain": [
       "<Figure size 1440x1080 with 20 Axes>"
      ]
     },
     "metadata": {
      "needs_background": "light"
     },
     "output_type": "display_data"
    }
   ],
   "source": [
    "c_dataset.hist(bins=50, figsize=(20, 15))\n",
    "plt.show()"
   ]
  },
  {
   "cell_type": "markdown",
   "metadata": {},
   "source": [
    "Split dataset to features and label"
   ]
  },
  {
   "cell_type": "code",
   "execution_count": 7,
   "metadata": {},
   "outputs": [],
   "source": [
    "features = c_dataset[['Age', 'Male', 'Increased Urination', 'Increased Thirst', 'Sudden Weight Loss', 'Weakness', 'Increased Hunger', 'Genital Thrush',\n",
    " 'Visual Blurring', 'Itching', 'Irritability', 'Delayed Healing', 'Partial Paresis', 'Muscle Stiffness', 'Hair Loss', 'Obesity', 'Family History']]\n",
    "label = c_dataset[['Diagnosis']]"
   ]
  },
  {
   "cell_type": "markdown",
   "metadata": {},
   "source": [
    "### Part 2\n",
    "**Perform a test-train split of 20% test.**"
   ]
  },
  {
   "cell_type": "code",
   "execution_count": 8,
   "metadata": {},
   "outputs": [],
   "source": [
    "x_train, x_test, y_train, y_test = train_test_split(features, label, test_size=0.2, random_state=10)"
   ]
  },
  {
   "cell_type": "markdown",
   "metadata": {},
   "source": [
    "### Part 3\n",
    "**Provide a detailed visualization and exploration of the data.**"
   ]
  },
  {
   "cell_type": "markdown",
   "metadata": {},
   "source": [
    "a. We show the distribution of the features is similar between test and train:"
   ]
  },
  {
   "cell_type": "code",
   "execution_count": 9,
   "metadata": {},
   "outputs": [
    {
     "data": {
      "text/html": [
       "<div>\n",
       "<style scoped>\n",
       "    .dataframe tbody tr th:only-of-type {\n",
       "        vertical-align: middle;\n",
       "    }\n",
       "\n",
       "    .dataframe tbody tr th {\n",
       "        vertical-align: top;\n",
       "    }\n",
       "\n",
       "    .dataframe thead th {\n",
       "        text-align: right;\n",
       "    }\n",
       "</style>\n",
       "<table border=\"1\" class=\"dataframe\">\n",
       "  <thead>\n",
       "    <tr style=\"text-align: right;\">\n",
       "      <th></th>\n",
       "      <th>Train</th>\n",
       "      <th>Test</th>\n",
       "    </tr>\n",
       "  </thead>\n",
       "  <tbody>\n",
       "    <tr>\n",
       "      <th>Average age</th>\n",
       "      <td>47.894737</td>\n",
       "      <td>48.561905</td>\n",
       "    </tr>\n",
       "  </tbody>\n",
       "</table>\n",
       "</div>"
      ],
      "text/plain": [
       "                 Train       Test\n",
       "Average age  47.894737  48.561905"
      ]
     },
     "metadata": {},
     "output_type": "display_data"
    },
    {
     "data": {
      "text/html": [
       "<style  type=\"text/css\" >\n",
       "</style><table id=\"T_93958e36_4963_11eb_804b_acde48001122\" ><thead>    <tr>        <th class=\"col_heading level0 col0\" >Positive Feature</th>        <th class=\"col_heading level0 col1\" >Train %</th>        <th class=\"col_heading level0 col2\" >Test %</th>        <th class=\"col_heading level0 col3\" >Delta %</th>    </tr></thead><tbody>\n",
       "                <tr>\n",
       "                                <td id=\"T_93958e36_4963_11eb_804b_acde48001122row0_col0\" class=\"data row0 col0\" >Male</td>\n",
       "                        <td id=\"T_93958e36_4963_11eb_804b_acde48001122row0_col1\" class=\"data row0 col1\" >62.918660</td>\n",
       "                        <td id=\"T_93958e36_4963_11eb_804b_acde48001122row0_col2\" class=\"data row0 col2\" >63.809524</td>\n",
       "                        <td id=\"T_93958e36_4963_11eb_804b_acde48001122row0_col3\" class=\"data row0 col3\" >-0.890864</td>\n",
       "            </tr>\n",
       "            <tr>\n",
       "                                <td id=\"T_93958e36_4963_11eb_804b_acde48001122row1_col0\" class=\"data row1 col0\" >Increased Urination</td>\n",
       "                        <td id=\"T_93958e36_4963_11eb_804b_acde48001122row1_col1\" class=\"data row1 col1\" >49.521531</td>\n",
       "                        <td id=\"T_93958e36_4963_11eb_804b_acde48001122row1_col2\" class=\"data row1 col2\" >49.523810</td>\n",
       "                        <td id=\"T_93958e36_4963_11eb_804b_acde48001122row1_col3\" class=\"data row1 col3\" >-0.002278</td>\n",
       "            </tr>\n",
       "            <tr>\n",
       "                                <td id=\"T_93958e36_4963_11eb_804b_acde48001122row2_col0\" class=\"data row2 col0\" >Increased Thirst</td>\n",
       "                        <td id=\"T_93958e36_4963_11eb_804b_acde48001122row2_col1\" class=\"data row2 col1\" >45.215311</td>\n",
       "                        <td id=\"T_93958e36_4963_11eb_804b_acde48001122row2_col2\" class=\"data row2 col2\" >41.904762</td>\n",
       "                        <td id=\"T_93958e36_4963_11eb_804b_acde48001122row2_col3\" class=\"data row2 col3\" >3.310549</td>\n",
       "            </tr>\n",
       "            <tr>\n",
       "                                <td id=\"T_93958e36_4963_11eb_804b_acde48001122row3_col0\" class=\"data row3 col0\" >Sudden Weight Loss</td>\n",
       "                        <td id=\"T_93958e36_4963_11eb_804b_acde48001122row3_col1\" class=\"data row3 col1\" >41.148325</td>\n",
       "                        <td id=\"T_93958e36_4963_11eb_804b_acde48001122row3_col2\" class=\"data row3 col2\" >42.857143</td>\n",
       "                        <td id=\"T_93958e36_4963_11eb_804b_acde48001122row3_col3\" class=\"data row3 col3\" >-1.708817</td>\n",
       "            </tr>\n",
       "            <tr>\n",
       "                                <td id=\"T_93958e36_4963_11eb_804b_acde48001122row4_col0\" class=\"data row4 col0\" >Weakness</td>\n",
       "                        <td id=\"T_93958e36_4963_11eb_804b_acde48001122row4_col1\" class=\"data row4 col1\" >57.655502</td>\n",
       "                        <td id=\"T_93958e36_4963_11eb_804b_acde48001122row4_col2\" class=\"data row4 col2\" >61.904762</td>\n",
       "                        <td id=\"T_93958e36_4963_11eb_804b_acde48001122row4_col3\" class=\"data row4 col3\" >-4.249260</td>\n",
       "            </tr>\n",
       "            <tr>\n",
       "                                <td id=\"T_93958e36_4963_11eb_804b_acde48001122row5_col0\" class=\"data row5 col0\" >Increased Hunger</td>\n",
       "                        <td id=\"T_93958e36_4963_11eb_804b_acde48001122row5_col1\" class=\"data row5 col1\" >46.172249</td>\n",
       "                        <td id=\"T_93958e36_4963_11eb_804b_acde48001122row5_col2\" class=\"data row5 col2\" >42.857143</td>\n",
       "                        <td id=\"T_93958e36_4963_11eb_804b_acde48001122row5_col3\" class=\"data row5 col3\" >3.315106</td>\n",
       "            </tr>\n",
       "            <tr>\n",
       "                                <td id=\"T_93958e36_4963_11eb_804b_acde48001122row6_col0\" class=\"data row6 col0\" >Genital Thrush</td>\n",
       "                        <td id=\"T_93958e36_4963_11eb_804b_acde48001122row6_col1\" class=\"data row6 col1\" >21.531100</td>\n",
       "                        <td id=\"T_93958e36_4963_11eb_804b_acde48001122row6_col2\" class=\"data row6 col2\" >24.761905</td>\n",
       "                        <td id=\"T_93958e36_4963_11eb_804b_acde48001122row6_col3\" class=\"data row6 col3\" >-3.230804</td>\n",
       "            </tr>\n",
       "            <tr>\n",
       "                                <td id=\"T_93958e36_4963_11eb_804b_acde48001122row7_col0\" class=\"data row7 col0\" >Visual Blurring</td>\n",
       "                        <td id=\"T_93958e36_4963_11eb_804b_acde48001122row7_col1\" class=\"data row7 col1\" >45.454545</td>\n",
       "                        <td id=\"T_93958e36_4963_11eb_804b_acde48001122row7_col2\" class=\"data row7 col2\" >40.952381</td>\n",
       "                        <td id=\"T_93958e36_4963_11eb_804b_acde48001122row7_col3\" class=\"data row7 col3\" >4.502165</td>\n",
       "            </tr>\n",
       "            <tr>\n",
       "                                <td id=\"T_93958e36_4963_11eb_804b_acde48001122row8_col0\" class=\"data row8 col0\" >Itching</td>\n",
       "                        <td id=\"T_93958e36_4963_11eb_804b_acde48001122row8_col1\" class=\"data row8 col1\" >48.325359</td>\n",
       "                        <td id=\"T_93958e36_4963_11eb_804b_acde48001122row8_col2\" class=\"data row8 col2\" >49.523810</td>\n",
       "                        <td id=\"T_93958e36_4963_11eb_804b_acde48001122row8_col3\" class=\"data row8 col3\" >-1.198451</td>\n",
       "            </tr>\n",
       "            <tr>\n",
       "                                <td id=\"T_93958e36_4963_11eb_804b_acde48001122row9_col0\" class=\"data row9 col0\" >Irritability</td>\n",
       "                        <td id=\"T_93958e36_4963_11eb_804b_acde48001122row9_col1\" class=\"data row9 col1\" >23.205742</td>\n",
       "                        <td id=\"T_93958e36_4963_11eb_804b_acde48001122row9_col2\" class=\"data row9 col2\" >28.571429</td>\n",
       "                        <td id=\"T_93958e36_4963_11eb_804b_acde48001122row9_col3\" class=\"data row9 col3\" >-5.365687</td>\n",
       "            </tr>\n",
       "            <tr>\n",
       "                                <td id=\"T_93958e36_4963_11eb_804b_acde48001122row10_col0\" class=\"data row10 col0\" >Delayed Healing</td>\n",
       "                        <td id=\"T_93958e36_4963_11eb_804b_acde48001122row10_col1\" class=\"data row10 col1\" >46.172249</td>\n",
       "                        <td id=\"T_93958e36_4963_11eb_804b_acde48001122row10_col2\" class=\"data row10 col2\" >44.761905</td>\n",
       "                        <td id=\"T_93958e36_4963_11eb_804b_acde48001122row10_col3\" class=\"data row10 col3\" >1.410344</td>\n",
       "            </tr>\n",
       "            <tr>\n",
       "                                <td id=\"T_93958e36_4963_11eb_804b_acde48001122row11_col0\" class=\"data row11 col0\" >Partial Paresis</td>\n",
       "                        <td id=\"T_93958e36_4963_11eb_804b_acde48001122row11_col1\" class=\"data row11 col1\" >44.258373</td>\n",
       "                        <td id=\"T_93958e36_4963_11eb_804b_acde48001122row11_col2\" class=\"data row11 col2\" >37.142857</td>\n",
       "                        <td id=\"T_93958e36_4963_11eb_804b_acde48001122row11_col3\" class=\"data row11 col3\" >7.115516</td>\n",
       "            </tr>\n",
       "            <tr>\n",
       "                                <td id=\"T_93958e36_4963_11eb_804b_acde48001122row12_col0\" class=\"data row12 col0\" >Muscle Stiffness</td>\n",
       "                        <td id=\"T_93958e36_4963_11eb_804b_acde48001122row12_col1\" class=\"data row12 col1\" >36.602871</td>\n",
       "                        <td id=\"T_93958e36_4963_11eb_804b_acde48001122row12_col2\" class=\"data row12 col2\" >40.000000</td>\n",
       "                        <td id=\"T_93958e36_4963_11eb_804b_acde48001122row12_col3\" class=\"data row12 col3\" >-3.397129</td>\n",
       "            </tr>\n",
       "            <tr>\n",
       "                                <td id=\"T_93958e36_4963_11eb_804b_acde48001122row13_col0\" class=\"data row13 col0\" >Hair Loss</td>\n",
       "                        <td id=\"T_93958e36_4963_11eb_804b_acde48001122row13_col1\" class=\"data row13 col1\" >33.732057</td>\n",
       "                        <td id=\"T_93958e36_4963_11eb_804b_acde48001122row13_col2\" class=\"data row13 col2\" >38.095238</td>\n",
       "                        <td id=\"T_93958e36_4963_11eb_804b_acde48001122row13_col3\" class=\"data row13 col3\" >-4.363181</td>\n",
       "            </tr>\n",
       "            <tr>\n",
       "                                <td id=\"T_93958e36_4963_11eb_804b_acde48001122row14_col0\" class=\"data row14 col0\" >Obesity</td>\n",
       "                        <td id=\"T_93958e36_4963_11eb_804b_acde48001122row14_col1\" class=\"data row14 col1\" >17.703349</td>\n",
       "                        <td id=\"T_93958e36_4963_11eb_804b_acde48001122row14_col2\" class=\"data row14 col2\" >13.333333</td>\n",
       "                        <td id=\"T_93958e36_4963_11eb_804b_acde48001122row14_col3\" class=\"data row14 col3\" >4.370016</td>\n",
       "            </tr>\n",
       "            <tr>\n",
       "                                <td id=\"T_93958e36_4963_11eb_804b_acde48001122row15_col0\" class=\"data row15 col0\" >Family History</td>\n",
       "                        <td id=\"T_93958e36_4963_11eb_804b_acde48001122row15_col1\" class=\"data row15 col1\" >50.000000</td>\n",
       "                        <td id=\"T_93958e36_4963_11eb_804b_acde48001122row15_col2\" class=\"data row15 col2\" >54.285714</td>\n",
       "                        <td id=\"T_93958e36_4963_11eb_804b_acde48001122row15_col3\" class=\"data row15 col3\" >-4.285714</td>\n",
       "            </tr>\n",
       "    </tbody></table>"
      ],
      "text/plain": [
       "<pandas.io.formats.style.Styler at 0x7fc850f20350>"
      ]
     },
     "metadata": {},
     "output_type": "display_data"
    }
   ],
   "source": [
    "distribution_feat = x_train.drop(columns='Age').keys()\n",
    "distribution_train = x_train.drop(columns='Age').mean()*100\n",
    "distribution_test = x_test.drop(columns='Age').mean()*100\n",
    "distribution = {'Positive Feature':distribution_feat, 'Train %':distribution_train, 'Test %':distribution_test, 'Delta %':distribution_train-distribution_test}\n",
    "distribution_table = pd.DataFrame(distribution)\n",
    "\n",
    "avg_age = {'Train': x_train['Age'].mean(), 'Test': x_test['Age'].mean()}\n",
    "distribution_age = pd.DataFrame(avg_age, index=['Average age'])\n",
    "\n",
    "display(distribution_age)\n",
    "display(distribution_table.style.hide_index())"
   ]
  },
  {
   "cell_type": "markdown",
   "metadata": {},
   "source": [
    "   **i. What issues could an imbalance of features between train and test cause?**"
   ]
  },
  {
   "cell_type": "markdown",
   "metadata": {},
   "source": []
  },
  {
   "cell_type": "markdown",
   "metadata": {},
   "source": [
    "**ii. How could you solve the issue?**"
   ]
  },
  {
   "cell_type": "markdown",
   "metadata": {},
   "source": []
  },
  {
   "cell_type": "markdown",
   "metadata": {},
   "source": []
  },
  {
   "cell_type": "markdown",
   "metadata": {},
   "source": [
    "### Part 4\n",
    "Encode all your data as one hot vectors."
   ]
  },
  {
   "cell_type": "code",
   "execution_count": null,
   "metadata": {},
   "outputs": [],
   "source": []
  },
  {
   "cell_type": "markdown",
   "metadata": {},
   "source": [
    "### Part 5\n",
    "Choose, build and optimize Machine Learning Models."
   ]
  },
  {
   "cell_type": "code",
   "execution_count": null,
   "metadata": {},
   "outputs": [],
   "source": []
  },
  {
   "cell_type": "markdown",
   "metadata": {},
   "source": [
    "### Part 6\n",
    "Feature Selection"
   ]
  },
  {
   "cell_type": "code",
   "execution_count": null,
   "metadata": {},
   "outputs": [],
   "source": []
  },
  {
   "cell_type": "markdown",
   "metadata": {},
   "source": [
    "### Part 7\n",
    "Data Separability Visualization"
   ]
  },
  {
   "cell_type": "code",
   "execution_count": null,
   "metadata": {},
   "outputs": [],
   "source": []
  }
 ],
 "metadata": {
  "kernelspec": {
   "display_name": "Python 3",
   "language": "python",
   "name": "python3"
  },
  "language_info": {
   "codemirror_mode": {
    "name": "ipython",
    "version": 3
   },
   "file_extension": ".py",
   "mimetype": "text/x-python",
   "name": "python",
   "nbconvert_exporter": "python",
   "pygments_lexer": "ipython3",
   "version": "3.7.9"
  }
 },
 "nbformat": 4,
 "nbformat_minor": 4
}
